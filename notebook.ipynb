{
 "cells": [
  {
   "cell_type": "code",
   "execution_count": 1,
   "metadata": {},
   "outputs": [],
   "source": [
    "# Cervical Cancer Risk Prediction - Automated Machine Learning Pipeline\n",
    "# Import required libraries\n",
    "import pandas as pd\n",
    "import numpy as np\n",
    "import seaborn as sns\n",
    "import matplotlib.pyplot as plt\n",
    "import time\n",
    "from sklearn.preprocessing import StandardScaler\n",
    "from sklearn.model_selection import train_test_split, RandomizedSearchCV\n",
    "from sklearn.linear_model import LogisticRegression\n",
    "from sklearn.ensemble import RandomForestClassifier, GradientBoostingClassifier\n",
    "from sklearn.svm import SVC\n",
    "from sklearn.neural_network import MLPClassifier\n",
    "from sklearn.neighbors import KNeighborsClassifier\n",
    "from sklearn.metrics import (\n",
    "    accuracy_score, precision_score, recall_score, f1_score, \n",
    "    roc_auc_score, confusion_matrix, classification_report\n",
    ")\n",
    "import xgboost as xgb\n",
    "import joblib\n",
    "import warnings\n",
    "warnings.filterwarnings('ignore')"
   ]
  },
  {
   "cell_type": "code",
   "execution_count": 2,
   "metadata": {},
   "outputs": [],
   "source": [
    "# 1. Data Loading and Initial Exploration\n",
    "# Import the csv file\n",
    "cancer_df = pd.read_csv('./data/risk_factors_cervical_cancer.csv')\n",
    "\n",
    "# Replace '?' with NaN\n",
    "cancer_df = cancer_df.replace('?', np.nan)\n",
    "\n",
    "# Convert all columns to numeric type\n",
    "cancer_df = cancer_df.apply(pd.to_numeric)\n",
    "\n",
    "# Drop columns with more than 80% missing values\n",
    "missing_threshold = 0.8\n",
    "cancer_df = cancer_df.dropna(thresh=missing_threshold * len(cancer_df), axis=1)\n",
    "\n",
    "# Impute remaining missing values with the mean\n",
    "cancer_df.fillna(cancer_df.mean(), inplace=True)"
   ]
  },
  {
   "cell_type": "code",
   "execution_count": 3,
   "metadata": {},
   "outputs": [],
   "source": [
    "# 2. Automated Feature Selection\n",
    "# Calculate the absolute correlation of features with the target variable\n",
    "abs_corr_with_target = cancer_df.corr()['Biopsy'].abs().sort_values(ascending=False)\n",
    "\n",
    "# Keep features with absolute correlation greater than a threshold\n",
    "correlation_threshold = 0.05\n",
    "features_to_keep = abs_corr_with_target[abs_corr_with_target >= correlation_threshold].index\n",
    "cancer_df = cancer_df[features_to_keep]\n",
    "\n",
    "# Separate target and features\n",
    "target_df = cancer_df['Biopsy']\n",
    "input_df = cancer_df.drop(columns=['Biopsy'])\n",
    "\n",
    "# Convert to numpy arrays\n",
    "X = np.array(input_df).astype('float32')\n",
    "y = np.array(target_df).astype('float32').reshape(-1, 1)\n",
    "\n",
    "# Scale the features\n",
    "scaler = StandardScaler()\n",
    "X = scaler.fit_transform(X)\n",
    "\n",
    "# Split data into train, validation, and test sets\n",
    "X_train, X_temp, Y_train, Y_temp = train_test_split(X, y, test_size=0.3, random_state=42)\n",
    "X_val, X_test, Y_val, Y_test = train_test_split(X_temp, Y_temp, test_size=0.5, random_state=42)"
   ]
  },
  {
   "cell_type": "code",
   "execution_count": 4,
   "metadata": {},
   "outputs": [
    {
     "name": "stdout",
     "output_type": "stream",
     "text": [
      "Training Logistic Regression...\n",
      "Logistic Regression - Accuracy: 0.9535, F1: 0.5714\n",
      "Training Random Forest...\n",
      "Random Forest - Accuracy: 0.9612, F1: 0.6154\n",
      "Training SVM...\n",
      "SVM - Accuracy: 0.9535, F1: 0.4000\n",
      "Training Gradient Boosting...\n",
      "Gradient Boosting - Accuracy: 0.9612, F1: 0.6667\n",
      "Training XGBoost...\n",
      "XGBoost - Accuracy: 0.9612, F1: 0.6667\n",
      "Training Neural Network...\n",
      "Neural Network - Accuracy: 0.9612, F1: 0.6154\n",
      "Training KNN...\n",
      "KNN - Accuracy: 0.9612, F1: 0.5455\n",
      "\n",
      "Best Baseline Model: Gradient Boosting with F1 Score: 0.6667\n"
     ]
    }
   ],
   "source": [
    "# 3. Automated Model Training and Evaluation\n",
    "def evaluate_model(model, X_train, X_test, Y_train, Y_test):\n",
    "    \"\"\"Evaluate a model and return performance metrics\"\"\"\n",
    "    # Train the model\n",
    "    start_time = time.time()\n",
    "    model.fit(X_train, Y_train.ravel())\n",
    "    training_time = time.time() - start_time\n",
    "    \n",
    "    # Make predictions\n",
    "    y_pred = model.predict(X_test)\n",
    "    \n",
    "    # Calculate metrics\n",
    "    accuracy = accuracy_score(Y_test, y_pred)\n",
    "    precision = precision_score(Y_test, y_pred)\n",
    "    recall = recall_score(Y_test, y_pred)\n",
    "    f1 = f1_score(Y_test, y_pred)\n",
    "    \n",
    "    # Calculate ROC AUC if the model has predict_proba\n",
    "    try:\n",
    "        y_pred_proba = model.predict_proba(X_test)[:, 1]\n",
    "        roc_auc = roc_auc_score(Y_test, y_pred_proba)\n",
    "    except:\n",
    "        roc_auc = None\n",
    "    \n",
    "    return {\n",
    "        'model': model.__class__.__name__,\n",
    "        'accuracy': accuracy,\n",
    "        'precision': precision,\n",
    "        'recall': recall,\n",
    "        'f1_score': f1,\n",
    "        'roc_auc': roc_auc,\n",
    "        'training_time': training_time,\n",
    "        'y_pred': y_pred\n",
    "    }\n",
    "\n",
    "# Initialize models with default parameters\n",
    "models = {\n",
    "    'Logistic Regression': LogisticRegression(max_iter=1000, random_state=42),\n",
    "    'Random Forest': RandomForestClassifier(random_state=42),\n",
    "    'SVM': SVC(probability=True, random_state=42),\n",
    "    'Gradient Boosting': GradientBoostingClassifier(random_state=42),\n",
    "    'XGBoost': xgb.XGBClassifier(use_label_encoder=False, eval_metric='logloss', random_state=42),\n",
    "    'Neural Network': MLPClassifier(max_iter=1000, random_state=42),\n",
    "    'KNN': KNeighborsClassifier()\n",
    "}\n",
    "\n",
    "# Evaluate all baseline models\n",
    "baseline_results = []\n",
    "\n",
    "for name, model in models.items():\n",
    "    print(f\"Training {name}...\")\n",
    "    result = evaluate_model(model, X_train, X_val, Y_train, Y_val)\n",
    "    result['model'] = name\n",
    "    baseline_results.append(result)\n",
    "    print(f\"{name} - Accuracy: {result['accuracy']:.4f}, F1: {result['f1_score']:.4f}\")\n",
    "\n",
    "# Select the best baseline model\n",
    "best_baseline_model = max(baseline_results, key=lambda x: x['f1_score'])\n",
    "print(f\"\\nBest Baseline Model: {best_baseline_model['model']} with F1 Score: {best_baseline_model['f1_score']:.4f}\")"
   ]
  },
  {
   "cell_type": "code",
   "execution_count": 5,
   "metadata": {},
   "outputs": [
    {
     "name": "stdout",
     "output_type": "stream",
     "text": [
      "\n",
      "Tuning Logistic Regression...\n",
      "Best parameters for Logistic Regression: {'solver': 'liblinear', 'penalty': 'l1', 'C': 0.1}\n",
      "Best F1 score: 0.7600\n",
      "\n",
      "Tuning Random Forest...\n",
      "Best parameters for Random Forest: {'n_estimators': 100, 'min_samples_split': 5, 'min_samples_leaf': 2, 'max_depth': 20}\n",
      "Best F1 score: 0.7148\n",
      "\n",
      "Tuning SVM...\n",
      "Best parameters for SVM: {'kernel': 'linear', 'gamma': 'scale', 'C': 0.1}\n",
      "Best F1 score: 0.6664\n",
      "\n",
      "Tuning Gradient Boosting...\n",
      "Best parameters for Gradient Boosting: {'subsample': 0.9, 'n_estimators': 100, 'min_samples_split': 5, 'max_depth': 3, 'learning_rate': 0.2}\n",
      "Best F1 score: 0.6090\n",
      "\n",
      "Tuning XGBoost...\n",
      "Best parameters for XGBoost: {'subsample': 0.8, 'n_estimators': 50, 'max_depth': 3, 'learning_rate': 0.1, 'colsample_bytree': 0.9}\n",
      "Best F1 score: 0.6544\n",
      "\n",
      "Tuning Neural Network...\n",
      "Best parameters for Neural Network: {'learning_rate': 'adaptive', 'hidden_layer_sizes': (100, 50), 'alpha': 0.001, 'activation': 'tanh'}\n",
      "Best F1 score: 0.5507\n",
      "\n",
      "Tuning KNN...\n",
      "Best parameters for KNN: {'weights': 'distance', 'p': 1, 'n_neighbors': 5}\n",
      "Best F1 score: 0.4516\n"
     ]
    }
   ],
   "source": [
    "# 4. Automated Hyperparameter Tuning\n",
    "# Define hyperparameter grids for tuning\n",
    "param_grids = {\n",
    "    'Logistic Regression': {\n",
    "        'C': [0.001, 0.01, 0.1, 1, 10, 100],\n",
    "        'penalty': ['l1', 'l2'],\n",
    "        'solver': ['liblinear', 'saga']\n",
    "    },\n",
    "    'Random Forest': {\n",
    "        'n_estimators': [50, 100, 200],\n",
    "        'max_depth': [None, 10, 20, 30],\n",
    "        'min_samples_split': [2, 5, 10],\n",
    "        'min_samples_leaf': [1, 2, 4]\n",
    "    },\n",
    "    'SVM': {\n",
    "        'C': [0.1, 1, 10, 100],\n",
    "        'kernel': ['linear', 'rbf', 'poly'],\n",
    "        'gamma': ['scale', 'auto']\n",
    "    },\n",
    "    'Gradient Boosting': {\n",
    "        'n_estimators': [50, 100, 200],\n",
    "        'max_depth': [3, 5, 7],\n",
    "        'learning_rate': [0.01, 0.1, 0.2],\n",
    "        'subsample': [0.8, 0.9, 1.0],\n",
    "        'min_samples_split': [2, 5, 10]\n",
    "    },\n",
    "    'XGBoost': {\n",
    "        'n_estimators': [50, 100, 200],\n",
    "        'max_depth': [3, 5, 7, 10],\n",
    "        'learning_rate': [0.01, 0.1, 0.2],\n",
    "        'subsample': [0.8, 0.9, 1.0],\n",
    "        'colsample_bytree': [0.8, 0.9, 1.0]\n",
    "    },\n",
    "    'Neural Network': {\n",
    "        'hidden_layer_sizes': [(50,), (100,), (50, 50), (100, 50)],\n",
    "        'activation': ['relu', 'tanh'],\n",
    "        'alpha': [0.0001, 0.001, 0.01],\n",
    "        'learning_rate': ['constant', 'adaptive']\n",
    "    },\n",
    "    'KNN': {\n",
    "        'n_neighbors': [3, 5, 7, 9, 11],\n",
    "        'weights': ['uniform', 'distance'],\n",
    "        'p': [1, 2]  # 1: Manhattan, 2: Euclidean\n",
    "    }\n",
    "}\n",
    "\n",
    "# Perform hyperparameter tuning for the top 3 models\n",
    "tuned_models = {}\n",
    "for model_name, model in models.items():\n",
    "    print(f\"\\nTuning {model_name}...\")\n",
    "    grid_search = RandomizedSearchCV(\n",
    "        model,\n",
    "        param_grids[model_name],\n",
    "        cv=5,\n",
    "        n_jobs=-1,\n",
    "        scoring='f1',\n",
    "        n_iter=20,\n",
    "        random_state=42\n",
    "    )\n",
    "    grid_search.fit(X_train, Y_train.ravel())\n",
    "    tuned_models[model_name] = grid_search.best_estimator_\n",
    "    print(f\"Best parameters for {model_name}: {grid_search.best_params_}\")\n",
    "    print(f\"Best F1 score: {grid_search.best_score_:.4f}\")"
   ]
  },
  {
   "cell_type": "code",
   "execution_count": 6,
   "metadata": {},
   "outputs": [
    {
     "name": "stdout",
     "output_type": "stream",
     "text": [
      "Evaluating Logistic Regression...\n",
      "Logistic Regression - Accuracy: 0.9690, F1: 0.7500\n",
      "Evaluating Random Forest...\n",
      "Random Forest - Accuracy: 0.9690, F1: 0.7143\n",
      "Evaluating SVM...\n",
      "SVM - Accuracy: 0.9690, F1: 0.7500\n",
      "Evaluating Gradient Boosting...\n",
      "Gradient Boosting - Accuracy: 0.9690, F1: 0.7143\n",
      "Evaluating XGBoost...\n",
      "XGBoost - Accuracy: 0.9767, F1: 0.8000\n",
      "Evaluating Neural Network...\n",
      "Neural Network - Accuracy: 0.9535, F1: 0.4000\n",
      "Evaluating KNN...\n",
      "KNN - Accuracy: 0.9612, F1: 0.5455\n",
      "\n",
      "Best Model Overall: XGBoost with F1 Score: 0.8000\n"
     ]
    }
   ],
   "source": [
    "# 5. Evaluate Tuned Models\n",
    "tuned_results = []\n",
    "for name, model in tuned_models.items():\n",
    "    print(f\"Evaluating {name}...\")\n",
    "    result = evaluate_model(model, X_train, X_val, Y_train, Y_val)\n",
    "    result['model'] = name\n",
    "    tuned_results.append(result)\n",
    "    print(f\"{name} - Accuracy: {result['accuracy']:.4f}, F1: {result['f1_score']:.4f}\")\n",
    "\n",
    "# Select the best model overall\n",
    "final_results = baseline_results + tuned_results\n",
    "best_model_result = max(final_results, key=lambda x: x['f1_score'])\n",
    "best_model_name = best_model_result['model']\n",
    "best_model = tuned_models.get(best_model_name, models[best_model_name])\n",
    "\n",
    "print(f\"\\nBest Model Overall: {best_model_name} with F1 Score: {best_model_result['f1_score']:.4f}\")"
   ]
  },
  {
   "cell_type": "code",
   "execution_count": 7,
   "metadata": {},
   "outputs": [
    {
     "name": "stdout",
     "output_type": "stream",
     "text": [
      "\n",
      "Best model saved to: model_artifacts/cervical_cancer_best_model.joblib\n",
      "Scaler saved to: model_artifacts/cervical_cancer_scaler.joblib\n",
      "Feature names saved to: model_artifacts/feature_names.joblib\n"
     ]
    }
   ],
   "source": [
    "# 6. Save the Best Model and Artifacts\n",
    "import os\n",
    "os.makedirs('model_artifacts', exist_ok=True)\n",
    "\n",
    "# Save the best model\n",
    "model_filename = f'model_artifacts/cervical_cancer_best_model.joblib'\n",
    "joblib.dump(best_model, model_filename)\n",
    "print(f\"\\nBest model saved to: {model_filename}\")\n",
    "\n",
    "# Save the scaler\n",
    "scaler_filename = 'model_artifacts/cervical_cancer_scaler.joblib'\n",
    "joblib.dump(scaler, scaler_filename)\n",
    "print(f\"Scaler saved to: {scaler_filename}\")\n",
    "\n",
    "# Save feature names\n",
    "feature_names_filename = 'model_artifacts/feature_names.joblib'\n",
    "joblib.dump(list(input_df.columns), feature_names_filename)\n",
    "print(f\"Feature names saved to: {feature_names_filename}\")"
   ]
  },
  {
   "cell_type": "code",
   "execution_count": 8,
   "metadata": {},
   "outputs": [
    {
     "name": "stdout",
     "output_type": "stream",
     "text": [
      "Training final model on 729 samples...\n",
      "\n",
      "Final Test Set Evaluation:\n",
      "Model: XGBoost\n",
      "Test Accuracy: 0.9612\n",
      "Test Precision: 0.7143\n",
      "Test Recall: 0.6250\n",
      "Test F1 Score: 0.6667\n"
     ]
    },
    {
     "data": {
      "image/png": "[encoded data removed]",
      "text/plain": [
       "<Figure size 1000x700 with 2 Axes>"
      ]
     },
     "metadata": {},
     "output_type": "display_data"
    },
    {
     "name": "stdout",
     "output_type": "stream",
     "text": [
      "\n",
      "Detailed Classification Report:\n",
      "              precision    recall  f1-score   support\n",
      "\n",
      "         0.0       0.98      0.98      0.98       121\n",
      "         1.0       0.71      0.62      0.67         8\n",
      "\n",
      "    accuracy                           0.96       129\n",
      "   macro avg       0.84      0.80      0.82       129\n",
      "weighted avg       0.96      0.96      0.96       129\n",
      "\n"
     ]
    }
   ],
   "source": [
    "# 7. Final Evaluation on Test Set\n",
    "# Fit the best model on the combined training and validation data\n",
    "X_train_full = np.vstack((X_train, X_val))\n",
    "Y_train_full = np.vstack((Y_train, Y_val))\n",
    "\n",
    "print(f\"Training final model on {X_train_full.shape[0]} samples...\")\n",
    "best_model.fit(X_train_full, Y_train_full.ravel())\n",
    "\n",
    "# Make predictions on test set\n",
    "test_predictions = best_model.predict(X_test)\n",
    "\n",
    "# Calculate final metrics\n",
    "final_accuracy = accuracy_score(Y_test, test_predictions)\n",
    "final_precision = precision_score(Y_test, test_predictions)\n",
    "final_recall = recall_score(Y_test, test_predictions)\n",
    "final_f1 = f1_score(Y_test, test_predictions)\n",
    "\n",
    "print(\"\\nFinal Test Set Evaluation:\")\n",
    "print(f\"Model: {best_model_name}\")\n",
    "print(f\"Test Accuracy: {final_accuracy:.4f}\")\n",
    "print(f\"Test Precision: {final_precision:.4f}\")\n",
    "print(f\"Test Recall: {final_recall:.4f}\")\n",
    "print(f\"Test F1 Score: {final_f1:.4f}\")\n",
    "\n",
    "# Define plot_confusion_matrix function\n",
    "def plot_confusion_matrix(y_true, y_pred, title):\n",
    "\tcm = confusion_matrix(y_true, y_pred)\n",
    "\tplt.figure(figsize=(10, 7))\n",
    "\tsns.heatmap(cm, annot=True, fmt='d', cmap='Blues')\n",
    "\tplt.title(title)\n",
    "\tplt.xlabel('Predicted')\n",
    "\tplt.ylabel('Actual')\n",
    "\tplt.show()\n",
    "\n",
    "# Plot final confusion matrix\n",
    "plot_confusion_matrix(Y_test, test_predictions, f\"Final Model - {best_model_name}\")\n",
    "\n",
    "# Print detailed classification report\n",
    "print(\"\\nDetailed Classification Report:\")\n",
    "print(classification_report(Y_test, test_predictions))"
   ]
  },
  {
   "cell_type": "code",
   "execution_count": 9,
   "metadata": {},
   "outputs": [
    {
     "name": "stdout",
     "output_type": "stream",
     "text": [
      "\n",
      "=== Cervical Cancer Risk Prediction Model Summary ===\n",
      "Best model: XGBoost\n",
      "Test set accuracy: 0.9612\n",
      "Test set F1 score: 0.6667\n",
      "Test set precision: 0.7143\n",
      "Test set recall: 0.6250\n"
     ]
    }
   ],
   "source": [
    "# 8. Summary and Conclusions\n",
    "print(\"\\n=== Cervical Cancer Risk Prediction Model Summary ===\")\n",
    "print(f\"Best model: {best_model_name}\")\n",
    "print(f\"Test set accuracy: {final_accuracy:.4f}\")\n",
    "print(f\"Test set F1 score: {final_f1:.4f}\")\n",
    "print(f\"Test set precision: {final_precision:.4f}\")\n",
    "print(f\"Test set recall: {final_recall:.4f}\")"
   ]
  },
  {
   "cell_type": "code",
   "execution_count": 10,
   "metadata": {},
   "outputs": [
    {
     "name": "stdout",
     "output_type": "stream",
     "text": [
      "\n",
      "Notebook completed successfully!\n"
     ]
    }
   ],
   "source": [
    "# End of notebook\n",
    "print(\"\\nNotebook completed successfully!\")"
   ]
  }
 ],
 "metadata": {
  "kernelspec": {
   "display_name": "Python 3",
   "language": "python",
   "name": "python3"
  },
  "language_info": {
   "codemirror_mode": {
    "name": "ipython",
    "version": 3
   },
   "file_extension": ".py",
   "mimetype": "text/x-python",
   "name": "python",
   "nbconvert_exporter": "python",
   "pygments_lexer": "ipython3",
   "version": "3.12.4"
  }
 },
 "nbformat": 4,
 "nbformat_minor": 2
}
